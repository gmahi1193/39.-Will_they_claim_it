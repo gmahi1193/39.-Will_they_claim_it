{
 "cells": [
  {
   "cell_type": "code",
   "execution_count": 1,
   "metadata": {},
   "outputs": [],
   "source": [
    "import numpy as np\n",
    "import pandas as pd\n",
    "import seaborn as sns\n",
    "import matplotlib.pyplot as plt\n",
    "\n",
    "from sklearn.model_selection import train_test_split\n",
    "from sklearn.metrics import precision_score\n",
    "from sklearn.metrics import accuracy_score\n",
    "from sklearn.preprocessing import StandardScaler, MinMaxScaler"
   ]
  },
  {
   "cell_type": "markdown",
   "metadata": {},
   "source": [
    "### Reading train data"
   ]
  },
  {
   "cell_type": "code",
   "execution_count": 11,
   "metadata": {},
   "outputs": [
    {
     "data": {
      "text/html": [
       "<div>\n",
       "<style scoped>\n",
       "    .dataframe tbody tr th:only-of-type {\n",
       "        vertical-align: middle;\n",
       "    }\n",
       "\n",
       "    .dataframe tbody tr th {\n",
       "        vertical-align: top;\n",
       "    }\n",
       "\n",
       "    .dataframe thead th {\n",
       "        text-align: right;\n",
       "    }\n",
       "</style>\n",
       "<table border=\"1\" class=\"dataframe\">\n",
       "  <thead>\n",
       "    <tr style=\"text-align: right;\">\n",
       "      <th></th>\n",
       "      <th>ID</th>\n",
       "      <th>Agency</th>\n",
       "      <th>Agency Type</th>\n",
       "      <th>Distribution Channel</th>\n",
       "      <th>Product Name</th>\n",
       "      <th>Duration</th>\n",
       "      <th>Destination</th>\n",
       "      <th>Net Sales</th>\n",
       "      <th>Commision (in value)</th>\n",
       "      <th>Age</th>\n",
       "      <th>Claim</th>\n",
       "    </tr>\n",
       "  </thead>\n",
       "  <tbody>\n",
       "    <tr>\n",
       "      <th>0</th>\n",
       "      <td>2010</td>\n",
       "      <td>EPX</td>\n",
       "      <td>Travel Agency</td>\n",
       "      <td>Online</td>\n",
       "      <td>Cancellation Plan</td>\n",
       "      <td>61</td>\n",
       "      <td>PHILIPPINES</td>\n",
       "      <td>12.0</td>\n",
       "      <td>0.00</td>\n",
       "      <td>41</td>\n",
       "      <td>0</td>\n",
       "    </tr>\n",
       "    <tr>\n",
       "      <th>1</th>\n",
       "      <td>4245</td>\n",
       "      <td>EPX</td>\n",
       "      <td>Travel Agency</td>\n",
       "      <td>Online</td>\n",
       "      <td>Cancellation Plan</td>\n",
       "      <td>4</td>\n",
       "      <td>MALAYSIA</td>\n",
       "      <td>17.0</td>\n",
       "      <td>0.00</td>\n",
       "      <td>35</td>\n",
       "      <td>0</td>\n",
       "    </tr>\n",
       "    <tr>\n",
       "      <th>2</th>\n",
       "      <td>9251</td>\n",
       "      <td>CWT</td>\n",
       "      <td>Travel Agency</td>\n",
       "      <td>Online</td>\n",
       "      <td>Rental Vehicle Excess Insurance</td>\n",
       "      <td>26</td>\n",
       "      <td>THAILAND</td>\n",
       "      <td>19.8</td>\n",
       "      <td>11.88</td>\n",
       "      <td>47</td>\n",
       "      <td>0</td>\n",
       "    </tr>\n",
       "    <tr>\n",
       "      <th>3</th>\n",
       "      <td>4754</td>\n",
       "      <td>EPX</td>\n",
       "      <td>Travel Agency</td>\n",
       "      <td>Online</td>\n",
       "      <td>2 way Comprehensive Plan</td>\n",
       "      <td>15</td>\n",
       "      <td>HONG KONG</td>\n",
       "      <td>27.0</td>\n",
       "      <td>0.00</td>\n",
       "      <td>48</td>\n",
       "      <td>0</td>\n",
       "    </tr>\n",
       "    <tr>\n",
       "      <th>4</th>\n",
       "      <td>8840</td>\n",
       "      <td>EPX</td>\n",
       "      <td>Travel Agency</td>\n",
       "      <td>Online</td>\n",
       "      <td>2 way Comprehensive Plan</td>\n",
       "      <td>15</td>\n",
       "      <td>MALAYSIA</td>\n",
       "      <td>37.0</td>\n",
       "      <td>0.00</td>\n",
       "      <td>36</td>\n",
       "      <td>0</td>\n",
       "    </tr>\n",
       "  </tbody>\n",
       "</table>\n",
       "</div>"
      ],
      "text/plain": [
       "     ID Agency    Agency Type Distribution Channel  \\\n",
       "0  2010    EPX  Travel Agency               Online   \n",
       "1  4245    EPX  Travel Agency               Online   \n",
       "2  9251    CWT  Travel Agency               Online   \n",
       "3  4754    EPX  Travel Agency               Online   \n",
       "4  8840    EPX  Travel Agency               Online   \n",
       "\n",
       "                      Product Name  Duration  Destination  Net Sales  \\\n",
       "0                Cancellation Plan        61  PHILIPPINES       12.0   \n",
       "1                Cancellation Plan         4     MALAYSIA       17.0   \n",
       "2  Rental Vehicle Excess Insurance        26     THAILAND       19.8   \n",
       "3         2 way Comprehensive Plan        15    HONG KONG       27.0   \n",
       "4         2 way Comprehensive Plan        15     MALAYSIA       37.0   \n",
       "\n",
       "   Commision (in value)  Age  Claim  \n",
       "0                  0.00   41      0  \n",
       "1                  0.00   35      0  \n",
       "2                 11.88   47      0  \n",
       "3                  0.00   48      0  \n",
       "4                  0.00   36      0  "
      ]
     },
     "execution_count": 11,
     "metadata": {},
     "output_type": "execute_result"
    }
   ],
   "source": [
    "train = pd.read_csv('../data/train.csv')\n",
    "train.head()"
   ]
  },
  {
   "cell_type": "markdown",
   "metadata": {},
   "source": [
    "### Variable description\n",
    "\n",
    "* Target: Claim Status (Claim)\n",
    "* Name of agency (Agency)\n",
    "* Type of travel insurance agencies (Agency.Type)\n",
    "* Distribution channel of travel insurance agencies (Distribution.Channel)\n",
    "* Name of the travel insurance products (Product.Name)\n",
    "* Duration of travel (Duration)\n",
    "* Destination of travel (Destination)\n",
    "* Amount of sales of travel insurance policies (Net.Sales)\n",
    "* The commission received for travel insurance agency (Commission)\n",
    "* Age of insured (Age)\n",
    "* The identification record of every observation (ID)"
   ]
  },
  {
   "cell_type": "markdown",
   "metadata": {},
   "source": [
    "## Exploratory data analysis on train data"
   ]
  },
  {
   "cell_type": "markdown",
   "metadata": {},
   "source": [
    "### Basic insights"
   ]
  },
  {
   "cell_type": "code",
   "execution_count": 12,
   "metadata": {},
   "outputs": [
    {
     "data": {
      "text/html": [
       "<div>\n",
       "<style scoped>\n",
       "    .dataframe tbody tr th:only-of-type {\n",
       "        vertical-align: middle;\n",
       "    }\n",
       "\n",
       "    .dataframe tbody tr th {\n",
       "        vertical-align: top;\n",
       "    }\n",
       "\n",
       "    .dataframe thead th {\n",
       "        text-align: right;\n",
       "    }\n",
       "</style>\n",
       "<table border=\"1\" class=\"dataframe\">\n",
       "  <thead>\n",
       "    <tr style=\"text-align: right;\">\n",
       "      <th></th>\n",
       "      <th>ID</th>\n",
       "      <th>Agency</th>\n",
       "      <th>Agency Type</th>\n",
       "      <th>Distribution Channel</th>\n",
       "      <th>Product Name</th>\n",
       "      <th>Duration</th>\n",
       "      <th>Destination</th>\n",
       "      <th>Net Sales</th>\n",
       "      <th>Commision (in value)</th>\n",
       "      <th>Age</th>\n",
       "      <th>Claim</th>\n",
       "    </tr>\n",
       "  </thead>\n",
       "  <tbody>\n",
       "    <tr>\n",
       "      <th>52305</th>\n",
       "      <td>5370</td>\n",
       "      <td>C2B</td>\n",
       "      <td>Airlines</td>\n",
       "      <td>Online</td>\n",
       "      <td>Annual Gold Plan</td>\n",
       "      <td>365</td>\n",
       "      <td>SINGAPORE</td>\n",
       "      <td>444.750593</td>\n",
       "      <td>111.1858</td>\n",
       "      <td>40</td>\n",
       "      <td>1</td>\n",
       "    </tr>\n",
       "    <tr>\n",
       "      <th>52306</th>\n",
       "      <td>5282</td>\n",
       "      <td>RAB</td>\n",
       "      <td>Airlines</td>\n",
       "      <td>Online</td>\n",
       "      <td>Value Plan</td>\n",
       "      <td>8</td>\n",
       "      <td>BRUNEI DARUSSALAM</td>\n",
       "      <td>23.000000</td>\n",
       "      <td>9.2000</td>\n",
       "      <td>54</td>\n",
       "      <td>0</td>\n",
       "    </tr>\n",
       "    <tr>\n",
       "      <th>52307</th>\n",
       "      <td>7083</td>\n",
       "      <td>C2B</td>\n",
       "      <td>Airlines</td>\n",
       "      <td>Online</td>\n",
       "      <td>Bronze Plan</td>\n",
       "      <td>38</td>\n",
       "      <td>SINGAPORE</td>\n",
       "      <td>61.100000</td>\n",
       "      <td>15.2800</td>\n",
       "      <td>37</td>\n",
       "      <td>0</td>\n",
       "    </tr>\n",
       "    <tr>\n",
       "      <th>52308</th>\n",
       "      <td>8523</td>\n",
       "      <td>EPX</td>\n",
       "      <td>Travel Agency</td>\n",
       "      <td>Online</td>\n",
       "      <td>Cancellation Plan</td>\n",
       "      <td>2</td>\n",
       "      <td>THAILAND</td>\n",
       "      <td>10.000000</td>\n",
       "      <td>0.0000</td>\n",
       "      <td>46</td>\n",
       "      <td>0</td>\n",
       "    </tr>\n",
       "    <tr>\n",
       "      <th>52309</th>\n",
       "      <td>4791</td>\n",
       "      <td>C2B</td>\n",
       "      <td>Airlines</td>\n",
       "      <td>Online</td>\n",
       "      <td>Annual Silver Plan</td>\n",
       "      <td>414</td>\n",
       "      <td>SINGAPORE</td>\n",
       "      <td>216.000000</td>\n",
       "      <td>54.0000</td>\n",
       "      <td>41</td>\n",
       "      <td>0</td>\n",
       "    </tr>\n",
       "  </tbody>\n",
       "</table>\n",
       "</div>"
      ],
      "text/plain": [
       "         ID Agency    Agency Type Distribution Channel        Product Name  \\\n",
       "52305  5370    C2B       Airlines               Online    Annual Gold Plan   \n",
       "52306  5282    RAB       Airlines               Online          Value Plan   \n",
       "52307  7083    C2B       Airlines               Online         Bronze Plan   \n",
       "52308  8523    EPX  Travel Agency               Online   Cancellation Plan   \n",
       "52309  4791    C2B       Airlines               Online  Annual Silver Plan   \n",
       "\n",
       "       Duration        Destination   Net Sales  Commision (in value)  Age  \\\n",
       "52305       365          SINGAPORE  444.750593              111.1858   40   \n",
       "52306         8  BRUNEI DARUSSALAM   23.000000                9.2000   54   \n",
       "52307        38          SINGAPORE   61.100000               15.2800   37   \n",
       "52308         2           THAILAND   10.000000                0.0000   46   \n",
       "52309       414          SINGAPORE  216.000000               54.0000   41   \n",
       "\n",
       "       Claim  \n",
       "52305      1  \n",
       "52306      0  \n",
       "52307      0  \n",
       "52308      0  \n",
       "52309      0  "
      ]
     },
     "execution_count": 12,
     "metadata": {},
     "output_type": "execute_result"
    }
   ],
   "source": [
    "train.tail()"
   ]
  },
  {
   "cell_type": "code",
   "execution_count": 13,
   "metadata": {},
   "outputs": [
    {
     "name": "stdout",
     "output_type": "stream",
     "text": [
      "<class 'pandas.core.frame.DataFrame'>\n",
      "RangeIndex: 52310 entries, 0 to 52309\n",
      "Data columns (total 11 columns):\n",
      " #   Column                Non-Null Count  Dtype  \n",
      "---  ------                --------------  -----  \n",
      " 0   ID                    52310 non-null  int64  \n",
      " 1   Agency                52310 non-null  object \n",
      " 2   Agency Type           52310 non-null  object \n",
      " 3   Distribution Channel  52310 non-null  object \n",
      " 4   Product Name          52310 non-null  object \n",
      " 5   Duration              52310 non-null  int64  \n",
      " 6   Destination           52310 non-null  object \n",
      " 7   Net Sales             52310 non-null  float64\n",
      " 8   Commision (in value)  52310 non-null  float64\n",
      " 9   Age                   52310 non-null  int64  \n",
      " 10  Claim                 52310 non-null  int64  \n",
      "dtypes: float64(2), int64(4), object(5)\n",
      "memory usage: 4.4+ MB\n"
     ]
    }
   ],
   "source": [
    "train.info()"
   ]
  },
  {
   "cell_type": "code",
   "execution_count": 14,
   "metadata": {},
   "outputs": [
    {
     "data": {
      "text/html": [
       "<div>\n",
       "<style scoped>\n",
       "    .dataframe tbody tr th:only-of-type {\n",
       "        vertical-align: middle;\n",
       "    }\n",
       "\n",
       "    .dataframe tbody tr th {\n",
       "        vertical-align: top;\n",
       "    }\n",
       "\n",
       "    .dataframe thead th {\n",
       "        text-align: right;\n",
       "    }\n",
       "</style>\n",
       "<table border=\"1\" class=\"dataframe\">\n",
       "  <thead>\n",
       "    <tr style=\"text-align: right;\">\n",
       "      <th></th>\n",
       "      <th>ID</th>\n",
       "      <th>Duration</th>\n",
       "      <th>Net Sales</th>\n",
       "      <th>Commision (in value)</th>\n",
       "      <th>Age</th>\n",
       "      <th>Claim</th>\n",
       "    </tr>\n",
       "  </thead>\n",
       "  <tbody>\n",
       "    <tr>\n",
       "      <th>count</th>\n",
       "      <td>52310.000000</td>\n",
       "      <td>52310.000000</td>\n",
       "      <td>52310.000000</td>\n",
       "      <td>52310.000000</td>\n",
       "      <td>52310.000000</td>\n",
       "      <td>52310.000000</td>\n",
       "    </tr>\n",
       "    <tr>\n",
       "      <th>mean</th>\n",
       "      <td>6005.745804</td>\n",
       "      <td>58.256108</td>\n",
       "      <td>48.554673</td>\n",
       "      <td>12.219963</td>\n",
       "      <td>39.555725</td>\n",
       "      <td>0.166699</td>\n",
       "    </tr>\n",
       "    <tr>\n",
       "      <th>std</th>\n",
       "      <td>2306.450475</td>\n",
       "      <td>109.138708</td>\n",
       "      <td>60.198589</td>\n",
       "      <td>22.847645</td>\n",
       "      <td>13.762473</td>\n",
       "      <td>0.372710</td>\n",
       "    </tr>\n",
       "    <tr>\n",
       "      <th>min</th>\n",
       "      <td>2000.000000</td>\n",
       "      <td>-2.000000</td>\n",
       "      <td>-389.000000</td>\n",
       "      <td>0.000000</td>\n",
       "      <td>0.000000</td>\n",
       "      <td>0.000000</td>\n",
       "    </tr>\n",
       "    <tr>\n",
       "      <th>25%</th>\n",
       "      <td>4015.000000</td>\n",
       "      <td>10.000000</td>\n",
       "      <td>19.800000</td>\n",
       "      <td>0.000000</td>\n",
       "      <td>33.000000</td>\n",
       "      <td>0.000000</td>\n",
       "    </tr>\n",
       "    <tr>\n",
       "      <th>50%</th>\n",
       "      <td>6002.000000</td>\n",
       "      <td>24.000000</td>\n",
       "      <td>29.500000</td>\n",
       "      <td>0.000000</td>\n",
       "      <td>36.000000</td>\n",
       "      <td>0.000000</td>\n",
       "    </tr>\n",
       "    <tr>\n",
       "      <th>75%</th>\n",
       "      <td>8004.000000</td>\n",
       "      <td>57.000000</td>\n",
       "      <td>55.000000</td>\n",
       "      <td>13.380000</td>\n",
       "      <td>43.000000</td>\n",
       "      <td>0.000000</td>\n",
       "    </tr>\n",
       "    <tr>\n",
       "      <th>max</th>\n",
       "      <td>10000.000000</td>\n",
       "      <td>4881.000000</td>\n",
       "      <td>682.000000</td>\n",
       "      <td>262.760000</td>\n",
       "      <td>118.000000</td>\n",
       "      <td>1.000000</td>\n",
       "    </tr>\n",
       "  </tbody>\n",
       "</table>\n",
       "</div>"
      ],
      "text/plain": [
       "                 ID      Duration     Net Sales  Commision (in value)  \\\n",
       "count  52310.000000  52310.000000  52310.000000          52310.000000   \n",
       "mean    6005.745804     58.256108     48.554673             12.219963   \n",
       "std     2306.450475    109.138708     60.198589             22.847645   \n",
       "min     2000.000000     -2.000000   -389.000000              0.000000   \n",
       "25%     4015.000000     10.000000     19.800000              0.000000   \n",
       "50%     6002.000000     24.000000     29.500000              0.000000   \n",
       "75%     8004.000000     57.000000     55.000000             13.380000   \n",
       "max    10000.000000   4881.000000    682.000000            262.760000   \n",
       "\n",
       "                Age         Claim  \n",
       "count  52310.000000  52310.000000  \n",
       "mean      39.555725      0.166699  \n",
       "std       13.762473      0.372710  \n",
       "min        0.000000      0.000000  \n",
       "25%       33.000000      0.000000  \n",
       "50%       36.000000      0.000000  \n",
       "75%       43.000000      0.000000  \n",
       "max      118.000000      1.000000  "
      ]
     },
     "execution_count": 14,
     "metadata": {},
     "output_type": "execute_result"
    }
   ],
   "source": [
    "train.describe()"
   ]
  },
  {
   "cell_type": "code",
   "execution_count": 15,
   "metadata": {},
   "outputs": [
    {
     "name": "stdout",
     "output_type": "stream",
     "text": [
      "Categorical variables:  ['Agency', 'Agency Type', 'Distribution Channel', 'Product Name', 'Destination']\n",
      "Numerical variables:  ['ID', 'Duration', 'Net Sales', 'Commision (in value)', 'Age', 'Claim']\n"
     ]
    }
   ],
   "source": [
    "# catagorical variables and numerical variables\n",
    "\n",
    "train_cat_var = train.select_dtypes(exclude = 'number').columns.tolist()\n",
    "print('Categorical variables: ',train_cat_var)\n",
    "\n",
    "train_num_var = train.select_dtypes(include = 'number').columns.tolist()\n",
    "print('Numerical variables: ',train_num_var)"
   ]
  },
  {
   "cell_type": "code",
   "execution_count": 16,
   "metadata": {},
   "outputs": [],
   "source": [
    "# for var in train_cat_var:\n",
    "#     print(train[var].value_counts())\n",
    "#     print('='*100)"
   ]
  },
  {
   "cell_type": "markdown",
   "metadata": {},
   "source": [
    "### Visualisation"
   ]
  },
  {
   "cell_type": "code",
   "execution_count": 17,
   "metadata": {},
   "outputs": [
    {
     "data": {
      "text/plain": [
       "['ID',\n",
       " 'Agency',\n",
       " 'Agency Type',\n",
       " 'Distribution Channel',\n",
       " 'Product Name',\n",
       " 'Duration',\n",
       " 'Destination',\n",
       " 'Net Sales',\n",
       " 'Commision (in value)',\n",
       " 'Age',\n",
       " 'Claim']"
      ]
     },
     "execution_count": 17,
     "metadata": {},
     "output_type": "execute_result"
    }
   ],
   "source": [
    "train_var = train.columns.tolist()\n",
    "train_var"
   ]
  },
  {
   "cell_type": "markdown",
   "metadata": {},
   "source": [
    "## Univariate analysis"
   ]
  },
  {
   "cell_type": "markdown",
   "metadata": {},
   "source": [
    "### For Numerical data"
   ]
  },
  {
   "cell_type": "code",
   "execution_count": 18,
   "metadata": {},
   "outputs": [],
   "source": [
    "# # Histograms for distribution for numerical variable\n",
    "\n",
    "# for i in train_num_var:\n",
    "#     sns.distplot(train[i], hist = True, kde = True)\n",
    "#     plt.title('Distribution for {}'.format(i))\n",
    "#     plt.xlabel(i)\n",
    "#     print('='*100)\n",
    "#     plt.show()"
   ]
  },
  {
   "cell_type": "code",
   "execution_count": 19,
   "metadata": {},
   "outputs": [
    {
     "name": "stdout",
     "output_type": "stream",
     "text": [
      "====================================================================================================\n"
     ]
    },
    {
     "data": {
      "image/png": "[encoded data removed]",
      "text/plain": [
       "<Figure size 1440x288 with 1 Axes>"
      ]
     },
     "metadata": {
      "needs_background": "light"
     },
     "output_type": "display_data"
    },
    {
     "name": "stdout",
     "output_type": "stream",
     "text": [
      "====================================================================================================\n"
     ]
    },
    {
     "data": {
      "image/png": "[encoded data removed]",
      "text/plain": [
       "<Figure size 1440x288 with 1 Axes>"
      ]
     },
     "metadata": {
      "needs_background": "light"
     },
     "output_type": "display_data"
    },
    {
     "name": "stdout",
     "output_type": "stream",
     "text": [
      "====================================================================================================\n"
     ]
    },
    {
     "data": {
      "image/png": "[encoded data removed]",
      "text/plain": [
       "<Figure size 1440x288 with 1 Axes>"
      ]
     },
     "metadata": {
      "needs_background": "light"
     },
     "output_type": "display_data"
    },
    {
     "name": "stdout",
     "output_type": "stream",
     "text": [
      "====================================================================================================\n"
     ]
    },
    {
     "data": {
      "image/png": "[encoded data removed]",
      "text/plain": [
       "<Figure size 1440x288 with 1 Axes>"
      ]
     },
     "metadata": {
      "needs_background": "light"
     },
     "output_type": "display_data"
    },
    {
     "name": "stdout",
     "output_type": "stream",
     "text": [
      "====================================================================================================\n"
     ]
    },
    {
     "data": {
      "image/png": "[encoded data removed]",
      "text/plain": [
       "<Figure size 1440x288 with 1 Axes>"
      ]
     },
     "metadata": {
      "needs_background": "light"
     },
     "output_type": "display_data"
    },
    {
     "name": "stdout",
     "output_type": "stream",
     "text": [
      "====================================================================================================\n"
     ]
    },
    {
     "data": {
      "image/png": "[encoded data removed]",
      "text/plain": [
       "<Figure size 1440x288 with 1 Axes>"
      ]
     },
     "metadata": {
      "needs_background": "light"
     },
     "output_type": "display_data"
    }
   ],
   "source": [
    "# Boxplot for numerical variables\n",
    "\n",
    "for i in train_num_var:\n",
    "    plt.figure(figsize=(20,4))\n",
    "    sns.boxplot(x = train[i])\n",
    "    plt.title('Boxplot for for {}'.format(i))\n",
    "    plt.xlabel(i)\n",
    "    print('='*100)\n",
    "    plt.show()"
   ]
  },
  {
   "cell_type": "code",
   "execution_count": 20,
   "metadata": {},
   "outputs": [
    {
     "data": {
      "image/png": "[encoded data removed]",
      "text/plain": [
       "<Figure size 432x288 with 1 Axes>"
      ]
     },
     "metadata": {
      "needs_background": "light"
     },
     "output_type": "display_data"
    }
   ],
   "source": [
    "train['Agency'].value_counts().sort_values(ascending = False)[:5].plot(kind = 'bar')\n",
    "plt.title(\"Top 5 insurance agencies\")\n",
    "plt.xlabel('Agency Name')\n",
    "plt.ylabel('Counts')\n",
    "plt.show()"
   ]
  },
  {
   "cell_type": "code",
   "execution_count": 21,
   "metadata": {},
   "outputs": [
    {
     "data": {
      "image/png": "[encoded data removed]",
      "text/plain": [
       "<Figure size 432x288 with 1 Axes>"
      ]
     },
     "metadata": {
      "needs_background": "light"
     },
     "output_type": "display_data"
    }
   ],
   "source": [
    "train['Product Name'].value_counts().sort_values(ascending = False)[:5].plot(kind = 'bar')\n",
    "plt.title(\"Top 5 insurance products\")\n",
    "plt.xlabel('Product Names')\n",
    "plt.xticks(rotation = 45)\n",
    "plt.ylabel('Counts')\n",
    "plt.show()"
   ]
  },
  {
   "cell_type": "code",
   "execution_count": 22,
   "metadata": {},
   "outputs": [
    {
     "data": {
      "image/png": "[encoded data removed]",
      "text/plain": [
       "<Figure size 432x288 with 1 Axes>"
      ]
     },
     "metadata": {
      "needs_background": "light"
     },
     "output_type": "display_data"
    }
   ],
   "source": [
    "train['Destination'].value_counts().sort_values(ascending = False)[:10].plot(kind = 'bar')\n",
    "plt.title(\"Top 5 destination chosen for travel\")\n",
    "plt.xlabel('Destinations Names')\n",
    "plt.xticks(rotation = 45)\n",
    "plt.ylabel('Counts')\n",
    "plt.show()"
   ]
  },
  {
   "cell_type": "code",
   "execution_count": 23,
   "metadata": {},
   "outputs": [
    {
     "data": {
      "text/plain": [
       "SINGAPORE        14242\n",
       "THAILAND          4562\n",
       "MALAYSIA          4359\n",
       "CHINA             3909\n",
       "AUSTRALIA         3011\n",
       "INDONESIA         2516\n",
       "UNITED STATES     2196\n",
       "PHILIPPINES       1797\n",
       "HONG KONG         1775\n",
       "JAPAN             1611\n",
       "Name: Destination, dtype: int64"
      ]
     },
     "execution_count": 23,
     "metadata": {},
     "output_type": "execute_result"
    }
   ],
   "source": [
    "train['Destination'].value_counts().sort_values(ascending = False)[:10]"
   ]
  },
  {
   "cell_type": "code",
   "execution_count": 24,
   "metadata": {},
   "outputs": [
    {
     "data": {
      "text/plain": [
       "Cancellation Plan                  13254\n",
       "2 way Comprehensive Plan           10555\n",
       "Rental Vehicle Excess Insurance     6813\n",
       "Bronze Plan                         4723\n",
       "Basic Plan                          4042\n",
       "Name: Product Name, dtype: int64"
      ]
     },
     "execution_count": 24,
     "metadata": {},
     "output_type": "execute_result"
    }
   ],
   "source": [
    "train['Product Name'].value_counts().sort_values(ascending = False)[:5]"
   ]
  },
  {
   "cell_type": "code",
   "execution_count": 25,
   "metadata": {},
   "outputs": [
    {
     "data": {
      "text/plain": [
       "Online     51419\n",
       "Offline      891\n",
       "Name: Distribution Channel, dtype: int64"
      ]
     },
     "execution_count": 25,
     "metadata": {},
     "output_type": "execute_result"
    }
   ],
   "source": [
    "train['Distribution Channel'].value_counts()"
   ]
  },
  {
   "cell_type": "code",
   "execution_count": 26,
   "metadata": {},
   "outputs": [],
   "source": [
    "# plt.figure(figsize = (10,8))\n",
    "# sns.countplot(train['Agency'].sort_values(ascending = False))\n",
    "# plt.title('Countplot for Agency')\n",
    "# plt.ylabel('Counts')\n",
    "# plt.xlabel('Agency')\n",
    "# plt.show()"
   ]
  },
  {
   "cell_type": "markdown",
   "metadata": {},
   "source": [
    "### For Catagorical data"
   ]
  },
  {
   "cell_type": "code",
   "execution_count": 27,
   "metadata": {
    "scrolled": false
   },
   "outputs": [
    {
     "name": "stderr",
     "output_type": "stream",
     "text": [
      "C:\\Users\\gmahi\\anaconda3\\lib\\site-packages\\seaborn\\_decorators.py:36: FutureWarning: Pass the following variable as a keyword arg: x. From version 0.12, the only valid positional argument will be `data`, and passing other arguments without an explicit keyword will result in an error or misinterpretation.\n",
      "  warnings.warn(\n"
     ]
    },
    {
     "name": "stdout",
     "output_type": "stream",
     "text": [
      "====================================================================================================\n"
     ]
    },
    {
     "data": {
      "image/png": "[encoded data removed]",
      "text/plain": [
       "<Figure size 720x576 with 1 Axes>"
      ]
     },
     "metadata": {
      "needs_background": "light"
     },
     "output_type": "display_data"
    },
    {
     "name": "stderr",
     "output_type": "stream",
     "text": [
      "C:\\Users\\gmahi\\anaconda3\\lib\\site-packages\\seaborn\\_decorators.py:36: FutureWarning: Pass the following variable as a keyword arg: x. From version 0.12, the only valid positional argument will be `data`, and passing other arguments without an explicit keyword will result in an error or misinterpretation.\n",
      "  warnings.warn(\n"
     ]
    },
    {
     "name": "stdout",
     "output_type": "stream",
     "text": [
      "====================================================================================================\n"
     ]
    },
    {
     "data": {
      "image/png": "[encoded data removed]",
      "text/plain": [
       "<Figure size 720x576 with 1 Axes>"
      ]
     },
     "metadata": {
      "needs_background": "light"
     },
     "output_type": "display_data"
    },
    {
     "name": "stdout",
     "output_type": "stream",
     "text": [
      "====================================================================================================\n"
     ]
    },
    {
     "name": "stderr",
     "output_type": "stream",
     "text": [
      "C:\\Users\\gmahi\\anaconda3\\lib\\site-packages\\seaborn\\_decorators.py:36: FutureWarning: Pass the following variable as a keyword arg: x. From version 0.12, the only valid positional argument will be `data`, and passing other arguments without an explicit keyword will result in an error or misinterpretation.\n",
      "  warnings.warn(\n"
     ]
    },
    {
     "data": {
      "image/png": "[encoded data removed]",
      "text/plain": [
       "<Figure size 720x576 with 1 Axes>"
      ]
     },
     "metadata": {
      "needs_background": "light"
     },
     "output_type": "display_data"
    },
    {
     "name": "stderr",
     "output_type": "stream",
     "text": [
      "C:\\Users\\gmahi\\anaconda3\\lib\\site-packages\\seaborn\\_decorators.py:36: FutureWarning: Pass the following variable as a keyword arg: x. From version 0.12, the only valid positional argument will be `data`, and passing other arguments without an explicit keyword will result in an error or misinterpretation.\n",
      "  warnings.warn(\n"
     ]
    },
    {
     "name": "stdout",
     "output_type": "stream",
     "text": [
      "====================================================================================================\n"
     ]
    },
    {
     "data": {
      "image/png": "[encoded data removed]",
      "text/plain": [
       "<Figure size 720x576 with 1 Axes>"
      ]
     },
     "metadata": {
      "needs_background": "light"
     },
     "output_type": "display_data"
    },
    {
     "name": "stderr",
     "output_type": "stream",
     "text": [
      "C:\\Users\\gmahi\\anaconda3\\lib\\site-packages\\seaborn\\_decorators.py:36: FutureWarning: Pass the following variable as a keyword arg: x. From version 0.12, the only valid positional argument will be `data`, and passing other arguments without an explicit keyword will result in an error or misinterpretation.\n",
      "  warnings.warn(\n"
     ]
    },
    {
     "name": "stdout",
     "output_type": "stream",
     "text": [
      "====================================================================================================\n"
     ]
    },
    {
     "data": {
      "image/png": "[encoded data removed]",
      "text/plain": [
       "<Figure size 720x576 with 1 Axes>"
      ]
     },
     "metadata": {
      "needs_background": "light"
     },
     "output_type": "display_data"
    }
   ],
   "source": [
    "# Countplot for distribution of catagorical variable\n",
    "\n",
    "for i in train_cat_var:\n",
    "    plt.figure(figsize = (10,8))\n",
    "    sns.countplot(train[i])\n",
    "    plt.title('Countplot for {}'.format(i))\n",
    "    plt.xlabel(i)\n",
    "    print('='*100)\n",
    "    plt.show()"
   ]
  },
  {
   "cell_type": "markdown",
   "metadata": {},
   "source": [
    "## Multivariate analysis"
   ]
  },
  {
   "cell_type": "markdown",
   "metadata": {},
   "source": [
    "### Numerical vs numerical"
   ]
  },
  {
   "cell_type": "code",
   "execution_count": 28,
   "metadata": {},
   "outputs": [],
   "source": [
    "# sns.jointplot('Duration','Net Sales', data = train, kind = 'reg')\n",
    "# plt.show()"
   ]
  },
  {
   "cell_type": "code",
   "execution_count": 29,
   "metadata": {},
   "outputs": [
    {
     "name": "stderr",
     "output_type": "stream",
     "text": [
      "C:\\Users\\gmahi\\anaconda3\\lib\\site-packages\\seaborn\\_decorators.py:36: FutureWarning: Pass the following variables as keyword args: x, y. From version 0.12, the only valid positional argument will be `data`, and passing other arguments without an explicit keyword will result in an error or misinterpretation.\n",
      "  warnings.warn(\n"
     ]
    },
    {
     "data": {
      "image/png": "[encoded data removed]",
      "text/plain": [
       "<Figure size 432x432 with 3 Axes>"
      ]
     },
     "metadata": {
      "needs_background": "light"
     },
     "output_type": "display_data"
    }
   ],
   "source": [
    "sns.jointplot('Duration','Commision (in value)', data = train, kind = 'reg')\n",
    "plt.show()"
   ]
  },
  {
   "cell_type": "code",
   "execution_count": 30,
   "metadata": {},
   "outputs": [],
   "source": [
    "# sns.jointplot('Duration','Age', data = train, kind = 'reg')\n",
    "# plt.show()"
   ]
  },
  {
   "cell_type": "code",
   "execution_count": 31,
   "metadata": {},
   "outputs": [
    {
     "name": "stderr",
     "output_type": "stream",
     "text": [
      "C:\\Users\\gmahi\\anaconda3\\lib\\site-packages\\seaborn\\_decorators.py:36: FutureWarning: Pass the following variables as keyword args: x, y. From version 0.12, the only valid positional argument will be `data`, and passing other arguments without an explicit keyword will result in an error or misinterpretation.\n",
      "  warnings.warn(\n"
     ]
    },
    {
     "data": {
      "image/png": "[encoded data removed]",
      "text/plain": [
       "<Figure size 432x432 with 3 Axes>"
      ]
     },
     "metadata": {
      "needs_background": "light"
     },
     "output_type": "display_data"
    }
   ],
   "source": [
    "sns.jointplot('Net Sales','Commision (in value)', data = train, kind = 'reg')\n",
    "plt.show()"
   ]
  },
  {
   "cell_type": "code",
   "execution_count": 32,
   "metadata": {},
   "outputs": [],
   "source": [
    "# sns.jointplot('Net Sales','Age', data = train, kind = 'reg')\n",
    "# plt.show()"
   ]
  },
  {
   "cell_type": "code",
   "execution_count": 33,
   "metadata": {},
   "outputs": [],
   "source": [
    "# sns.jointplot('Commision (in value)','Age', data = train, kind = 'reg')\n",
    "# plt.show()"
   ]
  },
  {
   "cell_type": "code",
   "execution_count": 34,
   "metadata": {},
   "outputs": [
    {
     "data": {
      "image/png": "[encoded data removed]",
      "text/plain": [
       "<Figure size 432x288 with 1 Axes>"
      ]
     },
     "metadata": {
      "needs_background": "light"
     },
     "output_type": "display_data"
    }
   ],
   "source": [
    "train[train['Duration']>365]['Agency'].value_counts().plot(kind = 'bar')\n",
    "plt.title('The agencies which given insurance of travel more than a year')\n",
    "plt.xlabel('Agency Name')\n",
    "plt.ylabel('Duration in days')\n",
    "plt.xticks(rotation = 45)\n",
    "plt.show()"
   ]
  },
  {
   "cell_type": "code",
   "execution_count": 35,
   "metadata": {},
   "outputs": [
    {
     "data": {
      "image/png": "[encoded data removed]",
      "text/plain": [
       "<Figure size 432x288 with 1 Axes>"
      ]
     },
     "metadata": {
      "needs_background": "light"
     },
     "output_type": "display_data"
    }
   ],
   "source": [
    "train[train['Claim'] == 1]['Agency'].value_counts()[:4].plot(kind = 'bar')\n",
    "plt.title('The agencies which claims got apporved')\n",
    "plt.xlabel('Agency Name')\n",
    "plt.ylabel('Counts of claim approved')\n",
    "plt.xticks(rotation = 45)\n",
    "plt.show()"
   ]
  },
  {
   "cell_type": "code",
   "execution_count": 36,
   "metadata": {},
   "outputs": [
    {
     "data": {
      "text/plain": [
       "C2B    1663\n",
       "LWC     261\n",
       "TTW      32\n",
       "SSI       9\n",
       "CWT       1\n",
       "Name: Agency, dtype: int64"
      ]
     },
     "execution_count": 36,
     "metadata": {},
     "output_type": "execute_result"
    }
   ],
   "source": [
    "train[train['Duration']>365]['Agency'].value_counts()"
   ]
  },
  {
   "cell_type": "code",
   "execution_count": null,
   "metadata": {},
   "outputs": [],
   "source": []
  },
  {
   "cell_type": "code",
   "execution_count": 37,
   "metadata": {},
   "outputs": [
    {
     "data": {
      "image/png": "[encoded data removed]",
      "text/plain": [
       "<Figure size 432x288 with 1 Axes>"
      ]
     },
     "metadata": {
      "needs_background": "light"
     },
     "output_type": "display_data"
    }
   ],
   "source": [
    "train[train['Claim'] == 0]['Agency Type'].value_counts().plot(kind = 'bar')\n",
    "plt.title('The agency types which not claims')\n",
    "plt.xlabel('Agency type')\n",
    "plt.ylabel('Counts of claim approved')\n",
    "plt.xticks(rotation = 45)\n",
    "plt.show()"
   ]
  },
  {
   "cell_type": "code",
   "execution_count": 38,
   "metadata": {},
   "outputs": [
    {
     "data": {
      "image/png": "[encoded data removed]",
      "text/plain": [
       "<Figure size 432x288 with 1 Axes>"
      ]
     },
     "metadata": {
      "needs_background": "light"
     },
     "output_type": "display_data"
    }
   ],
   "source": [
    "train[train['Claim'] == 1]['Agency Type'].value_counts().plot(kind = 'bar')\n",
    "plt.title('The agency types which made claims')\n",
    "plt.xlabel('Agency type')\n",
    "plt.ylabel('Counts of claim approved')\n",
    "plt.xticks(rotation = 45)\n",
    "plt.show()"
   ]
  },
  {
   "cell_type": "code",
   "execution_count": 39,
   "metadata": {},
   "outputs": [
    {
     "data": {
      "image/png": "[encoded data removed]",
      "text/plain": [
       "<Figure size 432x288 with 1 Axes>"
      ]
     },
     "metadata": {
      "needs_background": "light"
     },
     "output_type": "display_data"
    }
   ],
   "source": [
    "train[train['Age'] >= 100]['Destination'].value_counts()[:5].plot(kind = 'bar')\n",
    "plt.title('The destination prefered by aged people')\n",
    "plt.xlabel('Destination Name')\n",
    "plt.ylabel('Counts of insurance claims')\n",
    "plt.xticks(rotation = 45)\n",
    "plt.show()"
   ]
  },
  {
   "cell_type": "code",
   "execution_count": 40,
   "metadata": {},
   "outputs": [
    {
     "data": {
      "text/plain": [
       "0    43590\n",
       "1     8720\n",
       "Name: Claim, dtype: int64"
      ]
     },
     "execution_count": 40,
     "metadata": {},
     "output_type": "execute_result"
    }
   ],
   "source": [
    "train['Claim'].value_counts()"
   ]
  },
  {
   "cell_type": "markdown",
   "metadata": {},
   "source": [
    "### Numerical vs Categorical"
   ]
  },
  {
   "cell_type": "code",
   "execution_count": 41,
   "metadata": {
    "scrolled": false
   },
   "outputs": [],
   "source": [
    "# for cat in train_cat_var:\n",
    "#     for num in train_num_var:\n",
    "#         plt.figure(figsize = (10,8))\n",
    "#         sns.boxplot(x = train[cat], y = train[num])\n",
    "#         plt.show()"
   ]
  },
  {
   "cell_type": "markdown",
   "metadata": {},
   "source": [
    "### Categorical vs Categorical"
   ]
  },
  {
   "cell_type": "code",
   "execution_count": 42,
   "metadata": {},
   "outputs": [],
   "source": [
    "# for i in train_cat_var:\n",
    "#     pd.crosstab(index = train[i], columns = train['Claim']).unstack().plot(kind = 'bar', stacked = True, figsize = (10,7))\n",
    "#     plt.legend()\n",
    "#     print('='*100)\n",
    "#     plt.show()\n",
    "\n",
    "\n",
    "# for i in range(len(train_cat_var)):\n",
    "#     pd.crosstab(index = train[train_cat_var[i]], columns = train[train_cat_var[i+1]]).unstack().plot(kind = 'bar', stacked = True, figsize = (10,7))\n",
    "#     print('='*100)\n",
    "#     plt.show()\n",
    "#     if i == len(train_cat_var):\n",
    "#         break"
   ]
  },
  {
   "cell_type": "code",
   "execution_count": 43,
   "metadata": {},
   "outputs": [],
   "source": [
    "# sns.pairplot(train, x_vars=[\n",
    "#  'Agency',\n",
    "#  'Agency Type',\n",
    "#  'Distribution Channel',\n",
    "#  'Product Name',\n",
    "#  'Duration',\n",
    "#  'Destination',\n",
    "#  'Net Sales',\n",
    "#  'Commision (in value)',\n",
    "#  'Age','Claim'],y_vars=['Agency',\n",
    "#  'Agency Type',\n",
    "#  'Distribution Channel',\n",
    "#  'Product Name',\n",
    "#  'Duration',\n",
    "#  'Destination',\n",
    "#  'Net Sales',\n",
    "#  'Commision (in value)',\n",
    "#  'Age','Claim'])\n",
    "# plt.show()"
   ]
  },
  {
   "cell_type": "code",
   "execution_count": 44,
   "metadata": {},
   "outputs": [
    {
     "data": {
      "image/png": "[encoded data removed]",
      "text/plain": [
       "<Figure size 432x288 with 2 Axes>"
      ]
     },
     "metadata": {
      "needs_background": "light"
     },
     "output_type": "display_data"
    }
   ],
   "source": [
    "corr = train.corr()\n",
    "sns.heatmap(corr, annot = True)\n",
    "plt.show()"
   ]
  },
  {
   "cell_type": "markdown",
   "metadata": {},
   "source": [
    "### Claims for 0 commision"
   ]
  },
  {
   "cell_type": "code",
   "execution_count": 45,
   "metadata": {},
   "outputs": [
    {
     "data": {
      "image/png": "[encoded data removed]",
      "text/plain": [
       "<Figure size 432x288 with 1 Axes>"
      ]
     },
     "metadata": {
      "needs_background": "light"
     },
     "output_type": "display_data"
    }
   ],
   "source": [
    "# plt.figure(figsize = (16,10))\n",
    "train[train['Commision (in value)'] == 0].groupby('Claim')['Commision (in value)'].count().plot(kind = 'bar')\n",
    "plt.ylabel('Number of claims')\n",
    "plt.title('Claim stats for zero commision')\n",
    "plt.show()\n"
   ]
  },
  {
   "cell_type": "code",
   "execution_count": 46,
   "metadata": {},
   "outputs": [
    {
     "data": {
      "image/png": "[encoded data removed]",
      "text/plain": [
       "<Figure size 432x288 with 1 Axes>"
      ]
     },
     "metadata": {
      "needs_background": "light"
     },
     "output_type": "display_data"
    }
   ],
   "source": [
    "train['Claim'].value_counts().plot(kind = 'bar')\n",
    "plt.xlabel('Claims')\n",
    "plt.ylabel('Number of claims')\n",
    "plt.title('Overall claim stats')\n",
    "plt.show()"
   ]
  },
  {
   "cell_type": "code",
   "execution_count": 47,
   "metadata": {},
   "outputs": [
    {
     "data": {
      "text/plain": [
       "0    43590\n",
       "1     8720\n",
       "Name: Claim, dtype: int64"
      ]
     },
     "execution_count": 47,
     "metadata": {},
     "output_type": "execute_result"
    }
   ],
   "source": [
    "train['Claim'].value_counts()"
   ]
  },
  {
   "cell_type": "markdown",
   "metadata": {},
   "source": [
    "### Insights:\n",
    "\n",
    "    1. There is no missing value in the data.\n",
    "    2. Duration should not be negative\n",
    "    3. majority num variable looks right skewed.\n",
    "    4. dtypes seems fine.\n",
    "    5. Out of catagorical variables Agency type and distribution channel can be converted to OHE. \n",
    "    6. So many outliers which needs treatment before model learning phase\n",
    "    7. Net Sales and Commision (in value) are directly corelated"
   ]
  },
  {
   "cell_type": "markdown",
   "metadata": {},
   "source": [
    "### Treatment for duration column"
   ]
  },
  {
   "cell_type": "code",
   "execution_count": 48,
   "metadata": {},
   "outputs": [
    {
     "name": "stderr",
     "output_type": "stream",
     "text": [
      "C:\\Users\\gmahi\\anaconda3\\lib\\site-packages\\seaborn\\distributions.py:2619: FutureWarning: `distplot` is a deprecated function and will be removed in a future version. Please adapt your code to use either `displot` (a figure-level function with similar flexibility) or `histplot` (an axes-level function for histograms).\n",
      "  warnings.warn(msg, FutureWarning)\n"
     ]
    },
    {
     "data": {
      "image/png": "[encoded data removed]",
      "text/plain": [
       "<Figure size 432x288 with 1 Axes>"
      ]
     },
     "metadata": {
      "needs_background": "light"
     },
     "output_type": "display_data"
    }
   ],
   "source": [
    "# Histogram for duration\n",
    "\n",
    "# plt.figure(figsize = (15,6))\n",
    "sns.distplot(train['Duration'], hist = True, kde = True)\n",
    "plt.title('Distribution for Duration')\n",
    "plt.show()"
   ]
  },
  {
   "cell_type": "code",
   "execution_count": 49,
   "metadata": {},
   "outputs": [],
   "source": [
    "train['Duration'] = np.where(train['Duration']<=0,1,train['Duration'])\n",
    "train['Duration'] = train['Duration'].map(lambda x : np.log(x))"
   ]
  },
  {
   "cell_type": "code",
   "execution_count": 50,
   "metadata": {},
   "outputs": [
    {
     "name": "stderr",
     "output_type": "stream",
     "text": [
      "C:\\Users\\gmahi\\anaconda3\\lib\\site-packages\\seaborn\\distributions.py:2619: FutureWarning: `distplot` is a deprecated function and will be removed in a future version. Please adapt your code to use either `displot` (a figure-level function with similar flexibility) or `histplot` (an axes-level function for histograms).\n",
      "  warnings.warn(msg, FutureWarning)\n"
     ]
    },
    {
     "data": {
      "image/png": "[encoded data removed]",
      "text/plain": [
       "<Figure size 432x288 with 1 Axes>"
      ]
     },
     "metadata": {
      "needs_background": "light"
     },
     "output_type": "display_data"
    }
   ],
   "source": [
    "# plt.figure(figsize = (15,6))\n",
    "sns.distplot(train['Duration'], hist = True, kde = True)\n",
    "plt.title('Distribution for Duration')\n",
    "plt.show()"
   ]
  },
  {
   "cell_type": "markdown",
   "metadata": {},
   "source": [
    "### Treatment for commision (in Value) column"
   ]
  },
  {
   "cell_type": "code",
   "execution_count": 51,
   "metadata": {},
   "outputs": [],
   "source": [
    "# plt.figure(figsize = (15,6))\n",
    "# sns.distplot(train['Commision (in value)'], hist = True, kde = True)\n",
    "# plt.title('Distribution for Commision')\n",
    "# plt.show()"
   ]
  },
  {
   "cell_type": "code",
   "execution_count": 52,
   "metadata": {},
   "outputs": [],
   "source": [
    "# train['Commision (in value)'] = train['Commision (in value)'].map(lambda x : (x)**(1/3))"
   ]
  },
  {
   "cell_type": "code",
   "execution_count": 53,
   "metadata": {},
   "outputs": [],
   "source": [
    "# plt.figure(figsize = (15,6))\n",
    "# sns.distplot(train['Commision (in value)'], hist = True, kde = True)\n",
    "# plt.title('Distribution for Commision')\n",
    "# plt.show()"
   ]
  },
  {
   "cell_type": "markdown",
   "metadata": {},
   "source": [
    "### For Net Sales and Age columns"
   ]
  },
  {
   "cell_type": "code",
   "execution_count": 54,
   "metadata": {},
   "outputs": [],
   "source": [
    "# plt.figure(figsize = (15,6))\n",
    "# sns.distplot(train['Net Sales'], hist = True, kde = True)\n",
    "# plt.title('Distribution for Net Sales')\n",
    "# plt.show()"
   ]
  },
  {
   "cell_type": "code",
   "execution_count": 55,
   "metadata": {},
   "outputs": [],
   "source": [
    "# plt.figure(figsize = (15,6))\n",
    "# sns.distplot(train['Age'], hist = True, kde = True)\n",
    "# plt.title('Distribution for Age')\n",
    "# plt.show()"
   ]
  },
  {
   "cell_type": "code",
   "execution_count": 56,
   "metadata": {},
   "outputs": [],
   "source": [
    "# # Standardization\n",
    "# stdsc = StandardScaler()\n",
    "# features_scale = ['Net Sales', 'Age']\n",
    "# train[features_scale] = stdsc.fit_transform(train[features_scale])"
   ]
  },
  {
   "cell_type": "code",
   "execution_count": 57,
   "metadata": {},
   "outputs": [],
   "source": [
    "# # MinMaxScaler\n",
    "# min_max_scaler = MinMaxScaler()\n",
    "# features_scale = ['Net Sales', 'Age']\n",
    "# train[features_scale] = min_max_scaler.fit_transform(train[features_scale])"
   ]
  },
  {
   "cell_type": "code",
   "execution_count": 58,
   "metadata": {},
   "outputs": [],
   "source": [
    "# plt.figure(figsize = (15,6))\n",
    "# sns.distplot(train['Net Sales'], hist = True, kde = True)\n",
    "# plt.title('Distribution for Net Sales')\n",
    "# plt.show()"
   ]
  },
  {
   "cell_type": "code",
   "execution_count": 59,
   "metadata": {},
   "outputs": [],
   "source": [
    "# plt.figure(figsize = (15,6))\n",
    "# sns.distplot(train['Age'], hist = True, kde = True)\n",
    "# plt.title('Distribution for Age')\n",
    "# plt.show()"
   ]
  },
  {
   "cell_type": "code",
   "execution_count": 60,
   "metadata": {},
   "outputs": [],
   "source": [
    "# train['Agency'].value_counts().sort_values(ascending = False)"
   ]
  },
  {
   "cell_type": "code",
   "execution_count": 61,
   "metadata": {},
   "outputs": [],
   "source": [
    "# threshold = 4500\n",
    "# agency_name_index = Agency_name_counts[Agency_name_counts <= threshold].index\n",
    "# train['Agency'] = train['Agency'].replace(agency_name_index, 'Other')\n",
    "# train['Agency'].value_counts()"
   ]
  },
  {
   "cell_type": "code",
   "execution_count": 62,
   "metadata": {},
   "outputs": [],
   "source": [
    "Agency_name = train['Agency'].value_counts()[:4].index\n",
    "train['Agency'] = train['Agency'].map(lambda x : x if x in Agency_name else 'Others')"
   ]
  },
  {
   "cell_type": "code",
   "execution_count": 63,
   "metadata": {},
   "outputs": [],
   "source": [
    "# train['Destination'].value_counts().sort_values(ascending = False)[:10]"
   ]
  },
  {
   "cell_type": "code",
   "execution_count": 64,
   "metadata": {},
   "outputs": [],
   "source": [
    "# threshold_1 = 3000\n",
    "# Destination_index = Destination_counts[Destination_counts <= threshold_1].index\n",
    "# train['Destination'] = train['Destination'].replace(Destination_index, 'Other')\n",
    "# train['Destination'].value_counts()"
   ]
  },
  {
   "cell_type": "code",
   "execution_count": 65,
   "metadata": {},
   "outputs": [],
   "source": [
    "Destination_name = train['Destination'].value_counts()[:6].index\n",
    "train['Destination'] = train['Destination'].map(lambda x : x if x in Destination_name else 'Others')"
   ]
  },
  {
   "cell_type": "code",
   "execution_count": 66,
   "metadata": {},
   "outputs": [],
   "source": [
    "# train['Product Name'].value_counts().sort_values(ascending = False)"
   ]
  },
  {
   "cell_type": "code",
   "execution_count": 67,
   "metadata": {},
   "outputs": [],
   "source": [
    "# threshold_2 = 4000\n",
    "# Product_name_index = Product_name_counts[Product_name_counts <= threshold_2].index\n",
    "# train['Product Name'] = train['Product Name'].replace(Product_name_index, 'Other')\n",
    "# train['Product Name'].value_counts()"
   ]
  },
  {
   "cell_type": "code",
   "execution_count": 68,
   "metadata": {},
   "outputs": [],
   "source": [
    "Product_name = train['Product Name'].value_counts()[:5].index\n",
    "train['Product Name'] = train['Product Name'].map(lambda x : x if x in Product_name else 'Others')"
   ]
  },
  {
   "cell_type": "code",
   "execution_count": 69,
   "metadata": {},
   "outputs": [],
   "source": [
    "from sklearn.preprocessing import LabelEncoder\n",
    "\n",
    "le = LabelEncoder()\n",
    "label_column = ['Agency', 'Product Name','Destination']\n",
    "for x in label_column:\n",
    "    train[x] = le.fit_transform(train[x])"
   ]
  },
  {
   "cell_type": "code",
   "execution_count": null,
   "metadata": {},
   "outputs": [],
   "source": []
  },
  {
   "cell_type": "markdown",
   "metadata": {},
   "source": [
    "## Machine Learning"
   ]
  },
  {
   "cell_type": "code",
   "execution_count": 70,
   "metadata": {},
   "outputs": [
    {
     "name": "stdout",
     "output_type": "stream",
     "text": [
      "<class 'pandas.core.frame.DataFrame'>\n",
      "RangeIndex: 52310 entries, 0 to 52309\n",
      "Data columns (total 11 columns):\n",
      " #   Column                Non-Null Count  Dtype  \n",
      "---  ------                --------------  -----  \n",
      " 0   ID                    52310 non-null  int64  \n",
      " 1   Agency                52310 non-null  int32  \n",
      " 2   Agency Type           52310 non-null  object \n",
      " 3   Distribution Channel  52310 non-null  object \n",
      " 4   Product Name          52310 non-null  int32  \n",
      " 5   Duration              52310 non-null  float64\n",
      " 6   Destination           52310 non-null  int32  \n",
      " 7   Net Sales             52310 non-null  float64\n",
      " 8   Commision (in value)  52310 non-null  float64\n",
      " 9   Age                   52310 non-null  int64  \n",
      " 10  Claim                 52310 non-null  int64  \n",
      "dtypes: float64(3), int32(3), int64(3), object(2)\n",
      "memory usage: 3.8+ MB\n"
     ]
    }
   ],
   "source": [
    "train.info()"
   ]
  },
  {
   "cell_type": "code",
   "execution_count": 71,
   "metadata": {},
   "outputs": [],
   "source": [
    "train.drop(columns = ['ID','Commision (in value)'], axis = 1, inplace = True)"
   ]
  },
  {
   "cell_type": "code",
   "execution_count": 72,
   "metadata": {},
   "outputs": [],
   "source": [
    "train = pd.get_dummies(train)"
   ]
  },
  {
   "cell_type": "code",
   "execution_count": 73,
   "metadata": {},
   "outputs": [
    {
     "data": {
      "text/html": [
       "<div>\n",
       "<style scoped>\n",
       "    .dataframe tbody tr th:only-of-type {\n",
       "        vertical-align: middle;\n",
       "    }\n",
       "\n",
       "    .dataframe tbody tr th {\n",
       "        vertical-align: top;\n",
       "    }\n",
       "\n",
       "    .dataframe thead th {\n",
       "        text-align: right;\n",
       "    }\n",
       "</style>\n",
       "<table border=\"1\" class=\"dataframe\">\n",
       "  <thead>\n",
       "    <tr style=\"text-align: right;\">\n",
       "      <th></th>\n",
       "      <th>Agency</th>\n",
       "      <th>Product Name</th>\n",
       "      <th>Duration</th>\n",
       "      <th>Destination</th>\n",
       "      <th>Net Sales</th>\n",
       "      <th>Age</th>\n",
       "      <th>Claim</th>\n",
       "      <th>Agency Type_Airlines</th>\n",
       "      <th>Agency Type_Travel Agency</th>\n",
       "      <th>Distribution Channel_Offline</th>\n",
       "      <th>Distribution Channel_Online</th>\n",
       "    </tr>\n",
       "  </thead>\n",
       "  <tbody>\n",
       "    <tr>\n",
       "      <th>0</th>\n",
       "      <td>2</td>\n",
       "      <td>3</td>\n",
       "      <td>4.110874</td>\n",
       "      <td>4</td>\n",
       "      <td>12.0</td>\n",
       "      <td>41</td>\n",
       "      <td>0</td>\n",
       "      <td>0</td>\n",
       "      <td>1</td>\n",
       "      <td>0</td>\n",
       "      <td>1</td>\n",
       "    </tr>\n",
       "    <tr>\n",
       "      <th>1</th>\n",
       "      <td>2</td>\n",
       "      <td>3</td>\n",
       "      <td>1.386294</td>\n",
       "      <td>3</td>\n",
       "      <td>17.0</td>\n",
       "      <td>35</td>\n",
       "      <td>0</td>\n",
       "      <td>0</td>\n",
       "      <td>1</td>\n",
       "      <td>0</td>\n",
       "      <td>1</td>\n",
       "    </tr>\n",
       "    <tr>\n",
       "      <th>2</th>\n",
       "      <td>1</td>\n",
       "      <td>5</td>\n",
       "      <td>3.258097</td>\n",
       "      <td>6</td>\n",
       "      <td>19.8</td>\n",
       "      <td>47</td>\n",
       "      <td>0</td>\n",
       "      <td>0</td>\n",
       "      <td>1</td>\n",
       "      <td>0</td>\n",
       "      <td>1</td>\n",
       "    </tr>\n",
       "    <tr>\n",
       "      <th>3</th>\n",
       "      <td>2</td>\n",
       "      <td>0</td>\n",
       "      <td>2.708050</td>\n",
       "      <td>4</td>\n",
       "      <td>27.0</td>\n",
       "      <td>48</td>\n",
       "      <td>0</td>\n",
       "      <td>0</td>\n",
       "      <td>1</td>\n",
       "      <td>0</td>\n",
       "      <td>1</td>\n",
       "    </tr>\n",
       "    <tr>\n",
       "      <th>4</th>\n",
       "      <td>2</td>\n",
       "      <td>0</td>\n",
       "      <td>2.708050</td>\n",
       "      <td>3</td>\n",
       "      <td>37.0</td>\n",
       "      <td>36</td>\n",
       "      <td>0</td>\n",
       "      <td>0</td>\n",
       "      <td>1</td>\n",
       "      <td>0</td>\n",
       "      <td>1</td>\n",
       "    </tr>\n",
       "  </tbody>\n",
       "</table>\n",
       "</div>"
      ],
      "text/plain": [
       "   Agency  Product Name  Duration  Destination  Net Sales  Age  Claim  \\\n",
       "0       2             3  4.110874            4       12.0   41      0   \n",
       "1       2             3  1.386294            3       17.0   35      0   \n",
       "2       1             5  3.258097            6       19.8   47      0   \n",
       "3       2             0  2.708050            4       27.0   48      0   \n",
       "4       2             0  2.708050            3       37.0   36      0   \n",
       "\n",
       "   Agency Type_Airlines  Agency Type_Travel Agency  \\\n",
       "0                     0                          1   \n",
       "1                     0                          1   \n",
       "2                     0                          1   \n",
       "3                     0                          1   \n",
       "4                     0                          1   \n",
       "\n",
       "   Distribution Channel_Offline  Distribution Channel_Online  \n",
       "0                             0                            1  \n",
       "1                             0                            1  \n",
       "2                             0                            1  \n",
       "3                             0                            1  \n",
       "4                             0                            1  "
      ]
     },
     "execution_count": 73,
     "metadata": {},
     "output_type": "execute_result"
    }
   ],
   "source": [
    "train.head()"
   ]
  },
  {
   "cell_type": "code",
   "execution_count": 74,
   "metadata": {},
   "outputs": [
    {
     "data": {
      "text/plain": [
       "(52310, 11)"
      ]
     },
     "execution_count": 74,
     "metadata": {},
     "output_type": "execute_result"
    }
   ],
   "source": [
    "train.shape"
   ]
  },
  {
   "cell_type": "code",
   "execution_count": 75,
   "metadata": {},
   "outputs": [],
   "source": [
    "# Seperating Target and other variables\n",
    "X = train.drop(['Claim'], axis = 1)\n",
    "y = train['Claim']\n",
    "\n",
    "# Splitting the data into test and train\n",
    "X_train, X_test, y_train, y_test = train_test_split(X,y, train_size = 0.75, random_state = 0)"
   ]
  },
  {
   "cell_type": "code",
   "execution_count": 76,
   "metadata": {},
   "outputs": [],
   "source": [
    "from sklearn.preprocessing import StandardScaler\n",
    "from sklearn.model_selection import GridSearchCV\n",
    "from sklearn.tree import DecisionTreeClassifier\n",
    "from sklearn.neighbors import KNeighborsClassifier\n",
    "from sklearn.ensemble import RandomForestClassifier\n",
    "from sklearn.ensemble import GradientBoostingClassifier\n",
    "from sklearn.svm import SVC\n",
    "from sklearn.ensemble import AdaBoostClassifier"
   ]
  },
  {
   "cell_type": "code",
   "execution_count": 58,
   "metadata": {},
   "outputs": [],
   "source": [
    "# # Create params\n",
    "\n",
    "# model_param = {\n",
    "    \n",
    "#     'DecisionTreeClassifier':{\n",
    "#         'model':DecisionTreeClassifier(),\n",
    "#         'param':{\n",
    "#             'Criterion':['gini']\n",
    "#         }\n",
    "#     },\n",
    "#     'KNeighborsClassifier':{\n",
    "#         'model':KNeighborsClassifier(),\n",
    "#         'param':{\n",
    "#             'n_neighbors':[5,10,15,20,25]\n",
    "#         }\n",
    "#     },\n",
    "#     'SVC':{\n",
    "#         'model': SVC(),\n",
    "#         'param':{\n",
    "#             'Kernel':['rbf','linear','sigmoid'],\n",
    "#             'C':[1.0,10,100]\n",
    "#         }\n",
    "#     } \n",
    "# }"
   ]
  },
  {
   "cell_type": "code",
   "execution_count": 59,
   "metadata": {},
   "outputs": [],
   "source": [
    "# score = []\n",
    "# for model_name, mp in model_param.items():\n",
    "#     model_selection = GridSearchCV(estimator = mp['model'], param_grid = mp['param'],cv=5)\n",
    "#     model_selection.fit(X_train,y_train)\n",
    "#     score.append({\n",
    "#         'model' : model_name,\n",
    "#         'best_score' : model_selection.best_score_,\n",
    "#         'best_param' : model_selection.best_params_\n",
    "#     })\n",
    "\n",
    "# model_score = pd.DataFrame(score, columns = ['Model', 'Best Score', 'Best Params'])\n",
    "# model_score"
   ]
  },
  {
   "cell_type": "code",
   "execution_count": 77,
   "metadata": {},
   "outputs": [],
   "source": [
    "dtc = DecisionTreeClassifier(criterion = 'entropy')\n",
    "dtc.fit(X_train,y_train)\n",
    "y_pred_dtc = dtc.predict(X_test)"
   ]
  },
  {
   "cell_type": "code",
   "execution_count": 78,
   "metadata": {},
   "outputs": [
    {
     "name": "stdout",
     "output_type": "stream",
     "text": [
      "0.7379972565157751\n"
     ]
    }
   ],
   "source": [
    "scr_dtc = precision_score(y_test,y_pred_dtc)\n",
    "print(scr_dtc)"
   ]
  },
  {
   "cell_type": "code",
   "execution_count": 79,
   "metadata": {},
   "outputs": [],
   "source": [
    "knc = KNeighborsClassifier()\n",
    "knc.fit(X_train,y_train)\n",
    "y_pred_knc = knc.predict(X_test)"
   ]
  },
  {
   "cell_type": "code",
   "execution_count": 80,
   "metadata": {},
   "outputs": [
    {
     "name": "stdout",
     "output_type": "stream",
     "text": [
      "0.6581325301204819\n"
     ]
    }
   ],
   "source": [
    "scr_knc = precision_score(y_test,y_pred_knc)\n",
    "print(scr_knc)"
   ]
  },
  {
   "cell_type": "code",
   "execution_count": 81,
   "metadata": {},
   "outputs": [],
   "source": [
    "# svc = SVC()\n",
    "# svc.fit(X_train,y_train)\n",
    "# y_pred_svc = svc.predict(X_test)"
   ]
  },
  {
   "cell_type": "code",
   "execution_count": 82,
   "metadata": {},
   "outputs": [],
   "source": [
    "# scr_svc = precision_score(y_test,y_pred_svc)\n",
    "# print(scr_svc)"
   ]
  },
  {
   "cell_type": "code",
   "execution_count": 83,
   "metadata": {},
   "outputs": [],
   "source": [
    "rfc = RandomForestClassifier()\n",
    "rfc.fit(X_train,y_train)\n",
    "y_pred_rfc = rfc.predict(X_test)"
   ]
  },
  {
   "cell_type": "code",
   "execution_count": 84,
   "metadata": {},
   "outputs": [
    {
     "name": "stdout",
     "output_type": "stream",
     "text": [
      "0.7943648047454276\n"
     ]
    }
   ],
   "source": [
    "scr_rfc = precision_score(y_test,y_pred_rfc)\n",
    "print(scr_rfc)"
   ]
  },
  {
   "cell_type": "code",
   "execution_count": 85,
   "metadata": {},
   "outputs": [],
   "source": [
    "gbc = GradientBoostingClassifier()\n",
    "gbc.fit(X_train,y_train)\n",
    "y_pred_gbc = gbc.predict(X_test)"
   ]
  },
  {
   "cell_type": "code",
   "execution_count": 86,
   "metadata": {},
   "outputs": [
    {
     "name": "stdout",
     "output_type": "stream",
     "text": [
      "0.6395939086294417\n"
     ]
    }
   ],
   "source": [
    "scr_gbc = precision_score(y_test,y_pred_gbc)\n",
    "print(scr_gbc)"
   ]
  },
  {
   "cell_type": "code",
   "execution_count": 87,
   "metadata": {},
   "outputs": [],
   "source": [
    "ada_clf = AdaBoostClassifier(base_estimator=dtc,random_state = 0)\n",
    "ada_clf.fit(X_train,y_train)\n",
    "y_pred_ada = ada_clf.predict(X_test)"
   ]
  },
  {
   "cell_type": "code",
   "execution_count": 88,
   "metadata": {},
   "outputs": [
    {
     "name": "stdout",
     "output_type": "stream",
     "text": [
      "0.7766942954656265\n"
     ]
    }
   ],
   "source": [
    "scr_ada = precision_score(y_test,y_pred_ada)\n",
    "print(scr_ada)"
   ]
  },
  {
   "cell_type": "markdown",
   "metadata": {},
   "source": [
    "### Test data preparation for machine learning"
   ]
  },
  {
   "cell_type": "code",
   "execution_count": 89,
   "metadata": {},
   "outputs": [
    {
     "data": {
      "text/html": [
       "<div>\n",
       "<style scoped>\n",
       "    .dataframe tbody tr th:only-of-type {\n",
       "        vertical-align: middle;\n",
       "    }\n",
       "\n",
       "    .dataframe tbody tr th {\n",
       "        vertical-align: top;\n",
       "    }\n",
       "\n",
       "    .dataframe thead th {\n",
       "        text-align: right;\n",
       "    }\n",
       "</style>\n",
       "<table border=\"1\" class=\"dataframe\">\n",
       "  <thead>\n",
       "    <tr style=\"text-align: right;\">\n",
       "      <th></th>\n",
       "      <th>ID</th>\n",
       "      <th>Agency</th>\n",
       "      <th>Agency Type</th>\n",
       "      <th>Distribution Channel</th>\n",
       "      <th>Product Name</th>\n",
       "      <th>Duration</th>\n",
       "      <th>Destination</th>\n",
       "      <th>Net Sales</th>\n",
       "      <th>Commision (in value)</th>\n",
       "      <th>Age</th>\n",
       "    </tr>\n",
       "  </thead>\n",
       "  <tbody>\n",
       "    <tr>\n",
       "      <th>0</th>\n",
       "      <td>17631</td>\n",
       "      <td>EPX</td>\n",
       "      <td>Travel Agency</td>\n",
       "      <td>Online</td>\n",
       "      <td>Cancellation Plan</td>\n",
       "      <td>192</td>\n",
       "      <td>HONG KONG</td>\n",
       "      <td>18.0</td>\n",
       "      <td>0.00</td>\n",
       "      <td>36</td>\n",
       "    </tr>\n",
       "    <tr>\n",
       "      <th>1</th>\n",
       "      <td>15064</td>\n",
       "      <td>EPX</td>\n",
       "      <td>Travel Agency</td>\n",
       "      <td>Online</td>\n",
       "      <td>1 way Comprehensive Plan</td>\n",
       "      <td>2</td>\n",
       "      <td>SINGAPORE</td>\n",
       "      <td>20.0</td>\n",
       "      <td>0.00</td>\n",
       "      <td>36</td>\n",
       "    </tr>\n",
       "    <tr>\n",
       "      <th>2</th>\n",
       "      <td>14139</td>\n",
       "      <td>C2B</td>\n",
       "      <td>Airlines</td>\n",
       "      <td>Online</td>\n",
       "      <td>Bronze Plan</td>\n",
       "      <td>13</td>\n",
       "      <td>SINGAPORE</td>\n",
       "      <td>13.5</td>\n",
       "      <td>3.38</td>\n",
       "      <td>24</td>\n",
       "    </tr>\n",
       "    <tr>\n",
       "      <th>3</th>\n",
       "      <td>19754</td>\n",
       "      <td>EPX</td>\n",
       "      <td>Travel Agency</td>\n",
       "      <td>Online</td>\n",
       "      <td>2 way Comprehensive Plan</td>\n",
       "      <td>133</td>\n",
       "      <td>TAIWAN, PROVINCE OF CHINA</td>\n",
       "      <td>41.0</td>\n",
       "      <td>0.00</td>\n",
       "      <td>36</td>\n",
       "    </tr>\n",
       "    <tr>\n",
       "      <th>4</th>\n",
       "      <td>16439</td>\n",
       "      <td>C2B</td>\n",
       "      <td>Airlines</td>\n",
       "      <td>Online</td>\n",
       "      <td>Silver Plan</td>\n",
       "      <td>2</td>\n",
       "      <td>SINGAPORE</td>\n",
       "      <td>30.0</td>\n",
       "      <td>7.50</td>\n",
       "      <td>32</td>\n",
       "    </tr>\n",
       "  </tbody>\n",
       "</table>\n",
       "</div>"
      ],
      "text/plain": [
       "      ID Agency    Agency Type Distribution Channel              Product Name  \\\n",
       "0  17631    EPX  Travel Agency               Online         Cancellation Plan   \n",
       "1  15064    EPX  Travel Agency               Online  1 way Comprehensive Plan   \n",
       "2  14139    C2B       Airlines               Online               Bronze Plan   \n",
       "3  19754    EPX  Travel Agency               Online  2 way Comprehensive Plan   \n",
       "4  16439    C2B       Airlines               Online               Silver Plan   \n",
       "\n",
       "   Duration                Destination  Net Sales  Commision (in value)  Age  \n",
       "0       192                  HONG KONG       18.0                  0.00   36  \n",
       "1         2                  SINGAPORE       20.0                  0.00   36  \n",
       "2        13                  SINGAPORE       13.5                  3.38   24  \n",
       "3       133  TAIWAN, PROVINCE OF CHINA       41.0                  0.00   36  \n",
       "4         2                  SINGAPORE       30.0                  7.50   32  "
      ]
     },
     "execution_count": 89,
     "metadata": {},
     "output_type": "execute_result"
    }
   ],
   "source": [
    "test = pd.read_csv('../data/test.csv')\n",
    "test.head()"
   ]
  },
  {
   "cell_type": "code",
   "execution_count": 90,
   "metadata": {},
   "outputs": [
    {
     "name": "stdout",
     "output_type": "stream",
     "text": [
      "<class 'pandas.core.frame.DataFrame'>\n",
      "RangeIndex: 22421 entries, 0 to 22420\n",
      "Data columns (total 10 columns):\n",
      " #   Column                Non-Null Count  Dtype  \n",
      "---  ------                --------------  -----  \n",
      " 0   ID                    22421 non-null  int64  \n",
      " 1   Agency                22421 non-null  object \n",
      " 2   Agency Type           22421 non-null  object \n",
      " 3   Distribution Channel  22421 non-null  object \n",
      " 4   Product Name          22421 non-null  object \n",
      " 5   Duration              22421 non-null  int64  \n",
      " 6   Destination           22421 non-null  object \n",
      " 7   Net Sales             22421 non-null  float64\n",
      " 8   Commision (in value)  22421 non-null  float64\n",
      " 9   Age                   22421 non-null  int64  \n",
      "dtypes: float64(2), int64(3), object(5)\n",
      "memory usage: 1.7+ MB\n"
     ]
    }
   ],
   "source": [
    "test.info()"
   ]
  },
  {
   "cell_type": "code",
   "execution_count": 91,
   "metadata": {},
   "outputs": [
    {
     "data": {
      "text/html": [
       "<div>\n",
       "<style scoped>\n",
       "    .dataframe tbody tr th:only-of-type {\n",
       "        vertical-align: middle;\n",
       "    }\n",
       "\n",
       "    .dataframe tbody tr th {\n",
       "        vertical-align: top;\n",
       "    }\n",
       "\n",
       "    .dataframe thead th {\n",
       "        text-align: right;\n",
       "    }\n",
       "</style>\n",
       "<table border=\"1\" class=\"dataframe\">\n",
       "  <thead>\n",
       "    <tr style=\"text-align: right;\">\n",
       "      <th></th>\n",
       "      <th>ID</th>\n",
       "      <th>Duration</th>\n",
       "      <th>Net Sales</th>\n",
       "      <th>Commision (in value)</th>\n",
       "      <th>Age</th>\n",
       "    </tr>\n",
       "  </thead>\n",
       "  <tbody>\n",
       "    <tr>\n",
       "      <th>count</th>\n",
       "      <td>22421.000000</td>\n",
       "      <td>22421.000000</td>\n",
       "      <td>22421.000000</td>\n",
       "      <td>22421.000000</td>\n",
       "      <td>22421.000000</td>\n",
       "    </tr>\n",
       "    <tr>\n",
       "      <th>mean</th>\n",
       "      <td>15499.196646</td>\n",
       "      <td>59.100665</td>\n",
       "      <td>49.446070</td>\n",
       "      <td>12.316924</td>\n",
       "      <td>39.784889</td>\n",
       "    </tr>\n",
       "    <tr>\n",
       "      <th>std</th>\n",
       "      <td>2606.751171</td>\n",
       "      <td>114.819397</td>\n",
       "      <td>61.794609</td>\n",
       "      <td>22.957306</td>\n",
       "      <td>13.910773</td>\n",
       "    </tr>\n",
       "    <tr>\n",
       "      <th>min</th>\n",
       "      <td>11000.000000</td>\n",
       "      <td>-1.000000</td>\n",
       "      <td>-297.000000</td>\n",
       "      <td>0.000000</td>\n",
       "      <td>1.000000</td>\n",
       "    </tr>\n",
       "    <tr>\n",
       "      <th>25%</th>\n",
       "      <td>13236.000000</td>\n",
       "      <td>10.000000</td>\n",
       "      <td>19.800000</td>\n",
       "      <td>0.000000</td>\n",
       "      <td>34.000000</td>\n",
       "    </tr>\n",
       "    <tr>\n",
       "      <th>50%</th>\n",
       "      <td>15515.000000</td>\n",
       "      <td>24.000000</td>\n",
       "      <td>29.518868</td>\n",
       "      <td>0.000000</td>\n",
       "      <td>36.000000</td>\n",
       "    </tr>\n",
       "    <tr>\n",
       "      <th>75%</th>\n",
       "      <td>17762.000000</td>\n",
       "      <td>58.000000</td>\n",
       "      <td>56.000000</td>\n",
       "      <td>13.630000</td>\n",
       "      <td>43.000000</td>\n",
       "    </tr>\n",
       "    <tr>\n",
       "      <th>max</th>\n",
       "      <td>20000.000000</td>\n",
       "      <td>4857.000000</td>\n",
       "      <td>810.000000</td>\n",
       "      <td>283.500000</td>\n",
       "      <td>118.000000</td>\n",
       "    </tr>\n",
       "  </tbody>\n",
       "</table>\n",
       "</div>"
      ],
      "text/plain": [
       "                 ID      Duration     Net Sales  Commision (in value)  \\\n",
       "count  22421.000000  22421.000000  22421.000000          22421.000000   \n",
       "mean   15499.196646     59.100665     49.446070             12.316924   \n",
       "std     2606.751171    114.819397     61.794609             22.957306   \n",
       "min    11000.000000     -1.000000   -297.000000              0.000000   \n",
       "25%    13236.000000     10.000000     19.800000              0.000000   \n",
       "50%    15515.000000     24.000000     29.518868              0.000000   \n",
       "75%    17762.000000     58.000000     56.000000             13.630000   \n",
       "max    20000.000000   4857.000000    810.000000            283.500000   \n",
       "\n",
       "                Age  \n",
       "count  22421.000000  \n",
       "mean      39.784889  \n",
       "std       13.910773  \n",
       "min        1.000000  \n",
       "25%       34.000000  \n",
       "50%       36.000000  \n",
       "75%       43.000000  \n",
       "max      118.000000  "
      ]
     },
     "execution_count": 91,
     "metadata": {},
     "output_type": "execute_result"
    }
   ],
   "source": [
    "test.describe()"
   ]
  },
  {
   "cell_type": "code",
   "execution_count": 92,
   "metadata": {},
   "outputs": [
    {
     "name": "stdout",
     "output_type": "stream",
     "text": [
      "Categorical variables:  ['Agency', 'Agency Type', 'Distribution Channel', 'Product Name', 'Destination']\n",
      "Numerical variables:  ['ID', 'Duration', 'Net Sales', 'Commision (in value)', 'Age']\n"
     ]
    }
   ],
   "source": [
    "# catagorical variables and numerical variables\n",
    "\n",
    "test_cat_var = test.select_dtypes(exclude = 'number').columns.tolist()\n",
    "print('Categorical variables: ',test_cat_var)\n",
    "\n",
    "test_num_var = test.select_dtypes(include = 'number').columns.tolist()\n",
    "print('Numerical variables: ',test_num_var)"
   ]
  },
  {
   "cell_type": "code",
   "execution_count": 93,
   "metadata": {},
   "outputs": [],
   "source": [
    "# For Duration Column\n",
    "test['Duration'] = np.where(test['Duration']<=0,1,test['Duration'])\n",
    "test['Duration'] = test['Duration'].map(lambda x : np.log(x))\n",
    "\n",
    "# # For Commision (in value) Column\n",
    "# test['Commision (in value)'] = test['Commision (in value)'].map(lambda x : (x)**(1/3))\n",
    "\n",
    "# # MinMaxScaler\n",
    "# min_max_scaler = MinMaxScaler()\n",
    "# features_scale = ['Net Sales', 'Age']\n",
    "# test[features_scale] = min_max_scaler.fit_transform(test[features_scale])\n",
    "\n"
   ]
  },
  {
   "cell_type": "code",
   "execution_count": 94,
   "metadata": {},
   "outputs": [],
   "source": [
    "# # Agency OHE preparation\n",
    "# Agency_name_counts_test = test['Agency'].value_counts().sort_values(ascending = False)\n",
    "# threshold = 4500\n",
    "# agency_name_index = Agency_name_counts[Agency_name_counts <= threshold].index\n",
    "# test['Agency'] = test['Agency'].replace(agency_name_index, 'Other')\n",
    "# test['Agency'].value_counts()\n",
    "\n",
    "# # Destination OHE preparation\n",
    "# Destination_counts = test['Destination'].value_counts().sort_values(ascending = False)\n",
    "# threshold_1 = 3000\n",
    "# Destination_index = Destination_counts[Destination_counts <= threshold_1].index\n",
    "# test['Destination'] = test['Destination'].replace(Destination_index, 'Other')\n",
    "# test['Destination'].value_counts()\n",
    "\n",
    "# # Product Name OHE preparation\n",
    "# Product_name_counts = test['Product Name'].value_counts().sort_values(ascending = False)\n",
    "# threshold_2 = 4000\n",
    "# Product_name_index = Product_name_counts[Product_name_counts <= threshold_2].index\n",
    "# test['Product Name'] = test['Product Name'].replace(Product_name_index, 'Other')\n",
    "# test['Product Name'].value_counts()"
   ]
  },
  {
   "cell_type": "code",
   "execution_count": 95,
   "metadata": {},
   "outputs": [],
   "source": [
    "test['Agency'] = test['Agency'].map(lambda x : x if x in Agency_name else 'Others')\n",
    "test['Destination'] = test['Destination'].map(lambda x : x if x in Destination_name else 'Others')\n",
    "test['Product Name'] = test['Product Name'].map(lambda x : x if x in Product_name else 'Others')"
   ]
  },
  {
   "cell_type": "code",
   "execution_count": 96,
   "metadata": {},
   "outputs": [],
   "source": [
    "from sklearn.preprocessing import LabelEncoder\n",
    "\n",
    "le = LabelEncoder()\n",
    "label_column = ['Agency', 'Product Name','Destination']\n",
    "for x in label_column:\n",
    "    test[x] = le.fit_transform(test[x])"
   ]
  },
  {
   "cell_type": "code",
   "execution_count": 97,
   "metadata": {},
   "outputs": [],
   "source": [
    "test.drop(columns = ['ID','Commision (in value)'], axis = 1, inplace = True)\n",
    "test = pd.get_dummies(test)"
   ]
  },
  {
   "cell_type": "markdown",
   "metadata": {},
   "source": [
    "## Applying machine learning model on test data"
   ]
  },
  {
   "cell_type": "code",
   "execution_count": 102,
   "metadata": {},
   "outputs": [
    {
     "data": {
      "text/plain": [
       "array([1, 0, 0, 0, 0, 0, 0, 1, 0, 0, 0, 0, 0, 1, 0, 0, 0, 0, 0, 1, 0, 0,\n",
       "       0, 0, 0], dtype=int64)"
      ]
     },
     "execution_count": 102,
     "metadata": {},
     "output_type": "execute_result"
    }
   ],
   "source": [
    "y_pred_t = rfc.predict(test)\n",
    "\n",
    "# data_sub = pd.read_csv('sample_submission.csv')\n",
    "# data_sub['Claim'] = y_pred_t\n",
    "\n",
    "\n",
    "# csv_data = data_sub.to_csv('submission.csv', index = False)"
   ]
  },
  {
   "cell_type": "code",
   "execution_count": 103,
   "metadata": {},
   "outputs": [],
   "source": [
    "# train = pd.read_csv('train.csv')\n",
    "# train.head()\n",
    "\n",
    "# train['Duration'] = np.where(train['Duration']<=0,1,train['Duration'])\n",
    "# train['Duration'] = train['Duration'].map(lambda x : np.log(x))\n",
    "\n",
    "# # train['Commision (in value)'] = train['Commision (in value)'].map(lambda x : (x)**(1/3))\n",
    "\n",
    "# Agency_name = train['Agency'].value_counts()[:4].index\n",
    "# Destination_name = train['Destination'].value_counts()[:6].index\n",
    "# Product_name = train['Product Name'].value_counts()[:5].index\n",
    "# train['Agency'] = train['Agency'].map(lambda x : x if x in Agency_name else 'Others')\n",
    "# train['Destination'] = train['Destination'].map(lambda x : x if x in Destination_name else 'Others')\n",
    "# train['Product Name'] = train['Product Name'].map(lambda x : x if x in Product_name else 'Others')\n",
    "\n",
    "# # from sklearn.preprocessing import LabelEncoder\n",
    "\n",
    "# le = LabelEncoder()\n",
    "# label_column = ['Agency', 'Product Name','Destination']\n",
    "# for x in label_column:\n",
    "#     train[x] = le.fit_transform(train[x])\n",
    "    \n",
    "# # # MinMaxScaler\n",
    "# # min_max_scaler = MinMaxScaler()\n",
    "# # features_scale = ['Net Sales', 'Age']\n",
    "# # train[features_scale] = min_max_scaler.fit_transform(train[features_scale])\n",
    "\n",
    "    \n",
    "# train = pd.get_dummies(train)\n",
    "# train.head()"
   ]
  },
  {
   "cell_type": "code",
   "execution_count": 104,
   "metadata": {},
   "outputs": [],
   "source": [
    "# train.drop(columns = ['ID'], axis = 1, inplace = True)"
   ]
  },
  {
   "cell_type": "code",
   "execution_count": 105,
   "metadata": {},
   "outputs": [],
   "source": [
    "# from sklearn.preprocessing import StandardScaler\n",
    "# from sklearn.model_selection import GridSearchCV\n",
    "# from sklearn.tree import DecisionTreeClassifier\n",
    "# from sklearn.neighbors import KNeighborsClassifier\n",
    "# from sklearn.ensemble import RandomForestClassifier\n",
    "# from sklearn.ensemble import GradientBoostingClassifier\n",
    "# from sklearn.svm import SVC\n",
    "\n",
    "\n",
    "# # Seperating Target and other variables\n",
    "# X = train.drop(['Claim'], axis = 1)\n",
    "# y = train['Claim']\n",
    "\n",
    "# # Splitting the data into test and train\n",
    "# X_train, X_test, y_train, y_test = train_test_split(X,y, train_size = 0.75, random_state = 0)\n",
    "\n",
    "# print(\"Precision Score :\")\n",
    "# dtc = DecisionTreeClassifier(criterion = 'entropy')\n",
    "# dtc.fit(X_train,y_train)\n",
    "# y_pred_dtc = dtc.predict(X_test)\n",
    "\n",
    "# scr_dtc = precision_score(y_test,y_pred_dtc)\n",
    "# print(\"Decision Tree :\",scr_dtc)\n",
    "\n",
    "\n",
    "# knc = KNeighborsClassifier()\n",
    "# knc.fit(X_train,y_train)\n",
    "# y_pred_knc = knc.predict(X_test)\n",
    "\n",
    "# scr_knc = precision_score(y_test,y_pred_knc)\n",
    "# print(\"KNeighbours :\",scr_knc)\n",
    "\n",
    "\n",
    "# rfc = RandomForestClassifier()\n",
    "# rfc.fit(X_train,y_train)\n",
    "# y_pred_rfc = rfc.predict(X_test)\n",
    "\n",
    "# scr_rfc = precision_score(y_test,y_pred_rfc)\n",
    "# print(\"Random Forest :\",scr_rfc)\n",
    "\n",
    "\n",
    "# gbc = GradientBoostingClassifier()\n",
    "# gbc.fit(X_train,y_train)\n",
    "# y_pred_gbc = gbc.predict(X_test)\n",
    "\n",
    "# scr_gbc = precision_score(y_test,y_pred_gbc)\n",
    "# print(\"Gradient Boosting :\",scr_gbc)\n",
    "\n",
    "\n",
    "# from sklearn.ensemble import AdaBoostClassifier\n",
    "# ada_clf = AdaBoostClassifier(base_estimator=dtc,random_state = 0)\n",
    "# ada_clf.fit(X_train,y_train)\n",
    "# y_pred_ada = ada_clf.predict(X_test)\n",
    "\n",
    "# scr_ada = precision_score(y_test,y_pred_ada)\n",
    "# print(\"Ada Boosting :\",scr_ada)\n",
    "\n",
    "# print(\"=\"*100)\n",
    "# print(\"Accuracy Score :\")\n",
    "\n",
    "# ascr_dtc = accuracy_score(y_test,y_pred_dtc)\n",
    "# print(\"Decision Tree :\",ascr_dtc)\n",
    "\n",
    "\n",
    "# ascr_knc = accuracy_score(y_test,y_pred_knc)\n",
    "# print(\"KNeighbours :\",ascr_knc)\n",
    "\n",
    "\n",
    "# ascr_rfc = accuracy_score(y_test,y_pred_rfc)\n",
    "# print(\"Random Forest :\",ascr_rfc)\n",
    "\n",
    "\n",
    "# ascr_gbc = accuracy_score(y_test,y_pred_gbc)\n",
    "# print(\"Gradient Boosting :\",ascr_gbc)\n",
    "\n",
    "\n",
    "# ascr_ada = accuracy_score(y_test,y_pred_ada)\n",
    "# print(\"Ada Boosting :\",ascr_ada)"
   ]
  }
 ],
 "metadata": {
  "kernelspec": {
   "display_name": "Python 3 (ipykernel)",
   "language": "python",
   "name": "python3"
  },
  "language_info": {
   "codemirror_mode": {
    "name": "ipython",
    "version": 3
   },
   "file_extension": ".py",
   "mimetype": "text/x-python",
   "name": "python",
   "nbconvert_exporter": "python",
   "pygments_lexer": "ipython3",
   "version": "3.8.12"
  }
 },
 "nbformat": 4,
 "nbformat_minor": 4
}
